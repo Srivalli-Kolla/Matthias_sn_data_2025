{
 "cells": [
  {
   "cell_type": "markdown",
   "metadata": {},
   "source": [
    "# Notebook to convert raw data to h5ad\n",
    "\n",
    "**Created by :** Srivalli Kolla\n",
    "\n",
    "**Created on :** 13 May, 2025\n",
    "\n",
    "**Modified on :** 13 May, 2025\n",
    "\n",
    "**University of Würzburg**"
   ]
  },
  {
   "cell_type": "markdown",
   "metadata": {},
   "source": [
    "Env : scanpy (Python 3.12.2)"
   ]
  },
  {
   "cell_type": "markdown",
   "metadata": {},
   "source": [
    "# Importing Packages"
   ]
  },
  {
   "cell_type": "code",
   "execution_count": 50,
   "metadata": {},
   "outputs": [],
   "source": [
    "import anndata as ad\n",
    "import scanpy as sc\n",
    "import pandas as pd\n",
    "import os\n",
    "import datetime"
   ]
  },
  {
   "cell_type": "code",
   "execution_count": 51,
   "metadata": {},
   "outputs": [
    {
     "name": "stdout",
     "output_type": "stream",
     "text": [
      "-----\n",
      "anndata     0.11.3\n",
      "scanpy      1.10.4\n",
      "-----\n",
      "Cython                      3.0.12\n",
      "PIL                         11.1.0\n",
      "anyio                       NA\n",
      "arrow                       1.3.0\n",
      "asttokens                   NA\n",
      "attr                        25.1.0\n",
      "attrs                       25.1.0\n",
      "babel                       2.17.0\n",
      "certifi                     2025.01.31\n",
      "charset_normalizer          3.4.1\n",
      "colorama                    0.4.6\n",
      "comm                        0.2.2\n",
      "cycler                      0.12.1\n",
      "cython                      3.0.12\n",
      "cython_runtime              NA\n",
      "dateutil                    2.9.0.post0\n",
      "debugpy                     1.8.12\n",
      "decorator                   5.2.1\n",
      "defusedxml                  0.7.1\n",
      "executing                   2.1.0\n",
      "fastjsonschema              NA\n",
      "fqdn                        NA\n",
      "h5py                        3.13.0\n",
      "idna                        3.10\n",
      "igraph                      0.11.8\n",
      "ipykernel                   6.29.5\n",
      "ipywidgets                  8.1.5\n",
      "isoduration                 NA\n",
      "jedi                        0.19.2\n",
      "jinja2                      3.1.6\n",
      "joblib                      1.4.2\n",
      "json5                       0.10.0\n",
      "jsonpointer                 3.0.0\n",
      "jsonschema                  4.23.0\n",
      "jsonschema_specifications   NA\n",
      "jupyter_events              0.12.0\n",
      "jupyter_server              2.15.0\n",
      "jupyterlab_server           2.27.3\n",
      "kiwisolver                  1.4.7\n",
      "legacy_api_wrap             NA\n",
      "leidenalg                   0.10.2\n",
      "llvmlite                    0.44.0\n",
      "markupsafe                  3.0.2\n",
      "matplotlib                  3.10.1\n",
      "mpl_toolkits                NA\n",
      "natsort                     8.4.0\n",
      "nbformat                    5.10.4\n",
      "numba                       0.61.0\n",
      "numpy                       2.1.3\n",
      "overrides                   NA\n",
      "packaging                   24.2\n",
      "pandas                      2.2.3\n",
      "parso                       0.8.4\n",
      "platformdirs                4.3.6\n",
      "prometheus_client           NA\n",
      "prompt_toolkit              3.0.50\n",
      "psutil                      7.0.0\n",
      "pure_eval                   0.2.3\n",
      "pydev_ipython               NA\n",
      "pydevconsole                NA\n",
      "pydevd                      3.2.3\n",
      "pydevd_file_utils           NA\n",
      "pydevd_plugins              NA\n",
      "pydevd_tracing              NA\n",
      "pygments                    2.19.1\n",
      "pyparsing                   3.2.1\n",
      "pythonjsonlogger            NA\n",
      "pytz                        2024.1\n",
      "referencing                 NA\n",
      "requests                    2.32.3\n",
      "rfc3339_validator           0.1.4\n",
      "rfc3986_validator           0.1.1\n",
      "rpds                        NA\n",
      "scipy                       1.15.2\n",
      "send2trash                  NA\n",
      "session_info                1.0.0\n",
      "six                         1.17.0\n",
      "sklearn                     1.6.1\n",
      "sniffio                     1.3.1\n",
      "stack_data                  0.6.3\n",
      "texttable                   1.7.0\n",
      "threadpoolctl               3.5.0\n",
      "tornado                     6.4.2\n",
      "traitlets                   5.14.3\n",
      "typing_extensions           NA\n",
      "uri_template                NA\n",
      "urllib3                     2.3.0\n",
      "vscode                      NA\n",
      "wcwidth                     0.2.13\n",
      "webcolors                   NA\n",
      "websocket                   1.8.0\n",
      "yaml                        6.0.2\n",
      "zmq                         26.2.1\n",
      "-----\n",
      "IPython             9.0.1\n",
      "jupyter_client      8.6.3\n",
      "jupyter_core        5.7.2\n",
      "jupyterlab          4.3.6\n",
      "notebook            7.3.3\n",
      "-----\n",
      "Python 3.13.2 | packaged by conda-forge | (main, Feb 17 2025, 14:10:22) [GCC 13.3.0]\n",
      "Linux-6.13.11-200.fc41.x86_64-x86_64-with-glibc2.37\n",
      "-----\n",
      "Session information updated at 2025-05-13 18:38\n"
     ]
    },
    {
     "name": "stderr",
     "output_type": "stream",
     "text": [
      "/home/gruengroup/srivalli/miniconda3/envs/scanpy/lib/python3.13/site-packages/session_info/main.py:213: UserWarning: The '__version__' attribute is deprecated and will be removed in MarkupSafe 3.1. Use feature detection, or `importlib.metadata.version(\"markupsafe\")`, instead.\n",
      "  mod_version = _find_version(mod.__version__)\n"
     ]
    }
   ],
   "source": [
    "sc.settings.verbosity = 3\n",
    "sc.logging.print_versions()\n",
    "\n",
    "timestamp = datetime.datetime.now().strftime(\"%d_%m_%y\")"
   ]
  },
  {
   "cell_type": "code",
   "execution_count": 52,
   "metadata": {},
   "outputs": [
    {
     "name": "stdout",
     "output_type": "stream",
     "text": [
      "['SCC0203_1_Becker_GEX_D11_count', 'SCC0203_2_Becker_GEX_E5_count', 'SCC0203_2_Becker_GEX_E6_count', 'SCC0203_2_Becker_GEX_E7_count']\n"
     ]
    }
   ],
   "source": [
    "base_dir = \"./Github/Matthias_sn_data_2025/data\"\n",
    "\n",
    "samples = [\n",
    "    d\n",
    "    for d in os.listdir(base_dir)\n",
    "    if os.path.isdir(os.path.join(base_dir, d)) and d.endswith(\"_count\")\n",
    "]\n",
    "\n",
    "print(samples)"
   ]
  },
  {
   "cell_type": "markdown",
   "metadata": {},
   "source": [
    "# Data export"
   ]
  },
  {
   "cell_type": "markdown",
   "metadata": {},
   "source": [
    "1. Load matrix files\n",
    "2. Add Sample name by splitting the id by '_' and considering only part before split(B3_Lib2 = B3)\n",
    "3. Writing h5ad file in output path"
   ]
  },
  {
   "cell_type": "code",
   "execution_count": 53,
   "metadata": {},
   "outputs": [
    {
     "name": "stdout",
     "output_type": "stream",
     "text": [
      "Loading matrix from ./Github/Matthias_sn_data_2025/data/SCC0203_1_Becker_GEX_D11_count/outs/filtered_feature_bc_matrix...\n",
      "... reading from cache file cache/Github-Matthias_sn_data_2025-data-SCC0203_1_Becker_GEX_D11_count-outs-filtered_feature_bc_matrix-matrix.h5ad\n",
      "Saved to ./Github/Matthias_sn_data_2025/data/SCC0203_1_Becker_GEX_D11_count/D11_13_05_25.h5ad\n",
      "Loading matrix from ./Github/Matthias_sn_data_2025/data/SCC0203_2_Becker_GEX_E5_count/outs/filtered_feature_bc_matrix...\n",
      "... reading from cache file cache/Github-Matthias_sn_data_2025-data-SCC0203_2_Becker_GEX_E5_count-outs-filtered_feature_bc_matrix-matrix.h5ad\n",
      "Saved to ./Github/Matthias_sn_data_2025/data/SCC0203_2_Becker_GEX_E5_count/E5_13_05_25.h5ad\n",
      "Loading matrix from ./Github/Matthias_sn_data_2025/data/SCC0203_2_Becker_GEX_E6_count/outs/filtered_feature_bc_matrix...\n",
      "... reading from cache file cache/Github-Matthias_sn_data_2025-data-SCC0203_2_Becker_GEX_E6_count-outs-filtered_feature_bc_matrix-matrix.h5ad\n",
      "Saved to ./Github/Matthias_sn_data_2025/data/SCC0203_2_Becker_GEX_E6_count/E6_13_05_25.h5ad\n",
      "Loading matrix from ./Github/Matthias_sn_data_2025/data/SCC0203_2_Becker_GEX_E7_count/outs/filtered_feature_bc_matrix...\n",
      "... reading from cache file cache/Github-Matthias_sn_data_2025-data-SCC0203_2_Becker_GEX_E7_count-outs-filtered_feature_bc_matrix-matrix.h5ad\n",
      "Saved to ./Github/Matthias_sn_data_2025/data/SCC0203_2_Becker_GEX_E7_count/E7_13_05_25.h5ad\n"
     ]
    }
   ],
   "source": [
    "for sample in samples:\n",
    "    matrix_dir = os.path.join(base_dir, sample, \"outs\", \"filtered_feature_bc_matrix\")\n",
    "\n",
    "    print(f\"Loading matrix from {matrix_dir}...\")\n",
    "    adata = sc.read_10x_mtx(matrix_dir, var_names='gene_symbols', cache=True)\n",
    "    sample_id = sample.split(\"_\")[4]\n",
    "    adata.obs['sample_name'] = sample_id\n",
    "    \n",
    "    out_file = os.path.join(base_dir, sample, f\"{sample_id}_{timestamp}.h5ad\")\n",
    "    adata.write(out_file)\n",
    "\n",
    "    print(f\"Saved to {out_file}\")"
   ]
  },
  {
   "cell_type": "markdown",
   "metadata": {},
   "source": [
    "# Data merging"
   ]
  },
  {
   "cell_type": "code",
   "execution_count": 54,
   "metadata": {},
   "outputs": [],
   "source": [
    "h5ad_paths = [\n",
    "    os.path.join(root, file)\n",
    "    for root, _, files in os.walk(base_dir,sample)\n",
    "    for file in files\n",
    "    if file.endswith(\".h5ad\")\n",
    "]"
   ]
  },
  {
   "cell_type": "code",
   "execution_count": 55,
   "metadata": {},
   "outputs": [
    {
     "name": "stderr",
     "output_type": "stream",
     "text": [
      "/home/gruengroup/srivalli/miniconda3/envs/scanpy/lib/python3.13/site-packages/anndata/_core/aligned_df.py:68: ImplicitModificationWarning: Transforming to str index.\n",
      "  warnings.warn(\"Transforming to str index.\", ImplicitModificationWarning)\n",
      "/home/gruengroup/srivalli/miniconda3/envs/scanpy/lib/python3.13/site-packages/anndata/_core/anndata.py:1756: UserWarning: Observation names are not unique. To make them unique, call `.obs_names_make_unique`.\n",
      "  utils.warn_names_duplicates(\"obs\")\n"
     ]
    },
    {
     "data": {
      "text/plain": [
       "AnnData object with n_obs × n_vars = 79592 × 32285\n",
       "    obs: 'sample_name'"
      ]
     },
     "execution_count": 55,
     "metadata": {},
     "output_type": "execute_result"
    }
   ],
   "source": [
    "adatas = [sc.read_h5ad(p) for p in h5ad_paths]\n",
    "\n",
    "adata_combined = ad.concat(adatas, join='inner')\n",
    "adata_combined"
   ]
  },
  {
   "cell_type": "code",
   "execution_count": 56,
   "metadata": {},
   "outputs": [
    {
     "data": {
      "text/html": [
       "<div>\n",
       "<style scoped>\n",
       "    .dataframe tbody tr th:only-of-type {\n",
       "        vertical-align: middle;\n",
       "    }\n",
       "\n",
       "    .dataframe tbody tr th {\n",
       "        vertical-align: top;\n",
       "    }\n",
       "\n",
       "    .dataframe thead th {\n",
       "        text-align: right;\n",
       "    }\n",
       "</style>\n",
       "<table border=\"1\" class=\"dataframe\">\n",
       "  <thead>\n",
       "    <tr style=\"text-align: right;\">\n",
       "      <th></th>\n",
       "      <th>sample_name</th>\n",
       "    </tr>\n",
       "  </thead>\n",
       "  <tbody>\n",
       "    <tr>\n",
       "      <th>0</th>\n",
       "      <td>D11</td>\n",
       "    </tr>\n",
       "    <tr>\n",
       "      <th>1</th>\n",
       "      <td>D11</td>\n",
       "    </tr>\n",
       "    <tr>\n",
       "      <th>2</th>\n",
       "      <td>D11</td>\n",
       "    </tr>\n",
       "    <tr>\n",
       "      <th>3</th>\n",
       "      <td>D11</td>\n",
       "    </tr>\n",
       "    <tr>\n",
       "      <th>4</th>\n",
       "      <td>D11</td>\n",
       "    </tr>\n",
       "    <tr>\n",
       "      <th>...</th>\n",
       "      <td>...</td>\n",
       "    </tr>\n",
       "    <tr>\n",
       "      <th>TTTGTGGCAGTTATGT-1</th>\n",
       "      <td>E7</td>\n",
       "    </tr>\n",
       "    <tr>\n",
       "      <th>TTTGTGTTCACAAGCT-1</th>\n",
       "      <td>E7</td>\n",
       "    </tr>\n",
       "    <tr>\n",
       "      <th>TTTGTGTTCACCTGTC-1</th>\n",
       "      <td>E7</td>\n",
       "    </tr>\n",
       "    <tr>\n",
       "      <th>TTTGTGTTCTTGTCTG-1</th>\n",
       "      <td>E7</td>\n",
       "    </tr>\n",
       "    <tr>\n",
       "      <th>TTTGTTGGTGCACGCA-1</th>\n",
       "      <td>E7</td>\n",
       "    </tr>\n",
       "  </tbody>\n",
       "</table>\n",
       "<p>79592 rows × 1 columns</p>\n",
       "</div>"
      ],
      "text/plain": [
       "                   sample_name\n",
       "0                          D11\n",
       "1                          D11\n",
       "2                          D11\n",
       "3                          D11\n",
       "4                          D11\n",
       "...                        ...\n",
       "TTTGTGGCAGTTATGT-1          E7\n",
       "TTTGTGTTCACAAGCT-1          E7\n",
       "TTTGTGTTCACCTGTC-1          E7\n",
       "TTTGTGTTCTTGTCTG-1          E7\n",
       "TTTGTTGGTGCACGCA-1          E7\n",
       "\n",
       "[79592 rows x 1 columns]"
      ]
     },
     "execution_count": 56,
     "metadata": {},
     "output_type": "execute_result"
    }
   ],
   "source": [
    "adata_combined.obs"
   ]
  },
  {
   "cell_type": "code",
   "execution_count": 57,
   "metadata": {},
   "outputs": [
    {
     "data": {
      "text/html": [
       "<div>\n",
       "<style scoped>\n",
       "    .dataframe tbody tr th:only-of-type {\n",
       "        vertical-align: middle;\n",
       "    }\n",
       "\n",
       "    .dataframe tbody tr th {\n",
       "        vertical-align: top;\n",
       "    }\n",
       "\n",
       "    .dataframe thead th {\n",
       "        text-align: right;\n",
       "    }\n",
       "</style>\n",
       "<table border=\"1\" class=\"dataframe\">\n",
       "  <thead>\n",
       "    <tr style=\"text-align: right;\">\n",
       "      <th></th>\n",
       "    </tr>\n",
       "  </thead>\n",
       "  <tbody>\n",
       "    <tr>\n",
       "      <th>Xkr4</th>\n",
       "    </tr>\n",
       "    <tr>\n",
       "      <th>Gm1992</th>\n",
       "    </tr>\n",
       "    <tr>\n",
       "      <th>Gm19938</th>\n",
       "    </tr>\n",
       "    <tr>\n",
       "      <th>Gm37381</th>\n",
       "    </tr>\n",
       "    <tr>\n",
       "      <th>Rp1</th>\n",
       "    </tr>\n",
       "    <tr>\n",
       "      <th>...</th>\n",
       "    </tr>\n",
       "    <tr>\n",
       "      <th>AC124606.1</th>\n",
       "    </tr>\n",
       "    <tr>\n",
       "      <th>AC133095.2</th>\n",
       "    </tr>\n",
       "    <tr>\n",
       "      <th>AC133095.1</th>\n",
       "    </tr>\n",
       "    <tr>\n",
       "      <th>AC234645.1</th>\n",
       "    </tr>\n",
       "    <tr>\n",
       "      <th>AC149090.1</th>\n",
       "    </tr>\n",
       "  </tbody>\n",
       "</table>\n",
       "<p>32285 rows × 0 columns</p>\n",
       "</div>"
      ],
      "text/plain": [
       "Empty DataFrame\n",
       "Columns: []\n",
       "Index: [Xkr4, Gm1992, Gm19938, Gm37381, Rp1, Sox17, Gm37587, Gm37323, Mrpl15, Lypla1, Tcea1, Rgs20, Gm16041, Atp6v1h, Oprk1, Npbwr1, Rb1cc1, 4732440D04Rik, Alkal1, St18, Pcmtd1, Gm26901, Gm30414, Sntg1, Rrs1, Adhfe1, 2610203C22Rik, Vxn, Gm29520, Mybl1, Vcpip1, 1700034P13Rik, Sgk3, Mcmdc2, Snhg6, Tcf24, Ppp1r42, Gm15818, Cops5, Cspp1, Arfgef1, Cpa6, Prex2, A830018L16Rik, Gm17644, Gm29663, Sulf1, Slco5a1, Gm29283, Prdm14, Ncoa2, Gm29570, Tram1, Lactb2, Xkr9, Eya1, Gm9947, Msc, Trpa1, Kcnb2, Terf1, Sbspon, 4930444P10Rik, Rpl7, Rdh10, Gm28095, Stau2, Gm7568, Ube2w, Eloc, D030040B21Rik, Tmem70, Ly96, Gm28376, Jph1, Gm28783, Gdap1, Gm28784, Pi15, Gm28154, Gm16070, Crispld1, Gm28153, Gm28756, Crisp4, Defb18, Defb41, Gm15825, Tfap2d, Tfap2b, Gm28340, Pkhd1, 4930486I03Rik, Gm28653, Il17a, Il17f, Mcm3, Gm28065, 6720483E21Rik, Paqr8, ...]\n",
       "\n",
       "[32285 rows x 0 columns]"
      ]
     },
     "execution_count": 57,
     "metadata": {},
     "output_type": "execute_result"
    }
   ],
   "source": [
    "adata_combined.var"
   ]
  },
  {
   "cell_type": "markdown",
   "metadata": {},
   "source": [
    "# Add metadata"
   ]
  },
  {
   "cell_type": "code",
   "execution_count": 58,
   "metadata": {},
   "outputs": [
    {
     "data": {
      "text/html": [
       "<div>\n",
       "<style scoped>\n",
       "    .dataframe tbody tr th:only-of-type {\n",
       "        vertical-align: middle;\n",
       "    }\n",
       "\n",
       "    .dataframe tbody tr th {\n",
       "        vertical-align: top;\n",
       "    }\n",
       "\n",
       "    .dataframe thead th {\n",
       "        text-align: right;\n",
       "    }\n",
       "</style>\n",
       "<table border=\"1\" class=\"dataframe\">\n",
       "  <thead>\n",
       "    <tr style=\"text-align: right;\">\n",
       "      <th></th>\n",
       "      <th>sample_name</th>\n",
       "      <th>Genotype</th>\n",
       "      <th>Sample_ID</th>\n",
       "    </tr>\n",
       "  </thead>\n",
       "  <tbody>\n",
       "    <tr>\n",
       "      <th>0</th>\n",
       "      <td>D11</td>\n",
       "      <td>KDM6A_WT</td>\n",
       "      <td>D11_KDM6A_WT</td>\n",
       "    </tr>\n",
       "    <tr>\n",
       "      <th>1</th>\n",
       "      <td>E7</td>\n",
       "      <td>KDM6A_WT</td>\n",
       "      <td>E7_KDM6A_WT</td>\n",
       "    </tr>\n",
       "    <tr>\n",
       "      <th>2</th>\n",
       "      <td>E5</td>\n",
       "      <td>KDM6A_KO</td>\n",
       "      <td>E5_KDM6A_KO</td>\n",
       "    </tr>\n",
       "    <tr>\n",
       "      <th>3</th>\n",
       "      <td>E6</td>\n",
       "      <td>KDM6A_KO</td>\n",
       "      <td>E6_KDM6A_KO</td>\n",
       "    </tr>\n",
       "  </tbody>\n",
       "</table>\n",
       "</div>"
      ],
      "text/plain": [
       "  sample_name  Genotype     Sample_ID\n",
       "0         D11  KDM6A_WT  D11_KDM6A_WT\n",
       "1          E7  KDM6A_WT   E7_KDM6A_WT\n",
       "2          E5  KDM6A_KO   E5_KDM6A_KO\n",
       "3          E6  KDM6A_KO   E6_KDM6A_KO"
      ]
     },
     "execution_count": 58,
     "metadata": {},
     "output_type": "execute_result"
    }
   ],
   "source": [
    "metadata = pd.read_csv(\"./Github/Matthias_sn_data_2025/data/metadata_Matthias_sn_data_2025.csv\",sep= ',') \n",
    "metadata"
   ]
  },
  {
   "cell_type": "code",
   "execution_count": 59,
   "metadata": {},
   "outputs": [
    {
     "data": {
      "text/plain": [
       "AnnData object with n_obs × n_vars = 79592 × 32285\n",
       "    obs: 'sample_name', 'Genotype', 'Sample_ID'"
      ]
     },
     "execution_count": 59,
     "metadata": {},
     "output_type": "execute_result"
    }
   ],
   "source": [
    "adata_combined.obs = adata_combined.obs.merge(metadata, how='left', on='sample_name')\n",
    "adata_combined"
   ]
  },
  {
   "cell_type": "code",
   "execution_count": 60,
   "metadata": {},
   "outputs": [
    {
     "data": {
      "text/html": [
       "<div>\n",
       "<style scoped>\n",
       "    .dataframe tbody tr th:only-of-type {\n",
       "        vertical-align: middle;\n",
       "    }\n",
       "\n",
       "    .dataframe tbody tr th {\n",
       "        vertical-align: top;\n",
       "    }\n",
       "\n",
       "    .dataframe thead th {\n",
       "        text-align: right;\n",
       "    }\n",
       "</style>\n",
       "<table border=\"1\" class=\"dataframe\">\n",
       "  <thead>\n",
       "    <tr style=\"text-align: right;\">\n",
       "      <th></th>\n",
       "      <th>sample_name</th>\n",
       "      <th>Genotype</th>\n",
       "      <th>Sample_ID</th>\n",
       "    </tr>\n",
       "  </thead>\n",
       "  <tbody>\n",
       "    <tr>\n",
       "      <th>0</th>\n",
       "      <td>D11</td>\n",
       "      <td>KDM6A_WT</td>\n",
       "      <td>D11_KDM6A_WT</td>\n",
       "    </tr>\n",
       "    <tr>\n",
       "      <th>1</th>\n",
       "      <td>D11</td>\n",
       "      <td>KDM6A_WT</td>\n",
       "      <td>D11_KDM6A_WT</td>\n",
       "    </tr>\n",
       "    <tr>\n",
       "      <th>2</th>\n",
       "      <td>D11</td>\n",
       "      <td>KDM6A_WT</td>\n",
       "      <td>D11_KDM6A_WT</td>\n",
       "    </tr>\n",
       "    <tr>\n",
       "      <th>3</th>\n",
       "      <td>D11</td>\n",
       "      <td>KDM6A_WT</td>\n",
       "      <td>D11_KDM6A_WT</td>\n",
       "    </tr>\n",
       "    <tr>\n",
       "      <th>4</th>\n",
       "      <td>D11</td>\n",
       "      <td>KDM6A_WT</td>\n",
       "      <td>D11_KDM6A_WT</td>\n",
       "    </tr>\n",
       "    <tr>\n",
       "      <th>...</th>\n",
       "      <td>...</td>\n",
       "      <td>...</td>\n",
       "      <td>...</td>\n",
       "    </tr>\n",
       "    <tr>\n",
       "      <th>79587</th>\n",
       "      <td>E7</td>\n",
       "      <td>KDM6A_WT</td>\n",
       "      <td>E7_KDM6A_WT</td>\n",
       "    </tr>\n",
       "    <tr>\n",
       "      <th>79588</th>\n",
       "      <td>E7</td>\n",
       "      <td>KDM6A_WT</td>\n",
       "      <td>E7_KDM6A_WT</td>\n",
       "    </tr>\n",
       "    <tr>\n",
       "      <th>79589</th>\n",
       "      <td>E7</td>\n",
       "      <td>KDM6A_WT</td>\n",
       "      <td>E7_KDM6A_WT</td>\n",
       "    </tr>\n",
       "    <tr>\n",
       "      <th>79590</th>\n",
       "      <td>E7</td>\n",
       "      <td>KDM6A_WT</td>\n",
       "      <td>E7_KDM6A_WT</td>\n",
       "    </tr>\n",
       "    <tr>\n",
       "      <th>79591</th>\n",
       "      <td>E7</td>\n",
       "      <td>KDM6A_WT</td>\n",
       "      <td>E7_KDM6A_WT</td>\n",
       "    </tr>\n",
       "  </tbody>\n",
       "</table>\n",
       "<p>79592 rows × 3 columns</p>\n",
       "</div>"
      ],
      "text/plain": [
       "      sample_name  Genotype     Sample_ID\n",
       "0             D11  KDM6A_WT  D11_KDM6A_WT\n",
       "1             D11  KDM6A_WT  D11_KDM6A_WT\n",
       "2             D11  KDM6A_WT  D11_KDM6A_WT\n",
       "3             D11  KDM6A_WT  D11_KDM6A_WT\n",
       "4             D11  KDM6A_WT  D11_KDM6A_WT\n",
       "...           ...       ...           ...\n",
       "79587          E7  KDM6A_WT   E7_KDM6A_WT\n",
       "79588          E7  KDM6A_WT   E7_KDM6A_WT\n",
       "79589          E7  KDM6A_WT   E7_KDM6A_WT\n",
       "79590          E7  KDM6A_WT   E7_KDM6A_WT\n",
       "79591          E7  KDM6A_WT   E7_KDM6A_WT\n",
       "\n",
       "[79592 rows x 3 columns]"
      ]
     },
     "execution_count": 60,
     "metadata": {},
     "output_type": "execute_result"
    }
   ],
   "source": [
    "adata_combined.obs"
   ]
  },
  {
   "cell_type": "code",
   "execution_count": 61,
   "metadata": {},
   "outputs": [],
   "source": [
    "combined_path = os.path.join(base_dir, f\"matthias_sn_concat_raw_{timestamp}.h5ad\")\n",
    "adata_combined.write(combined_path)"
   ]
  }
 ],
 "metadata": {
  "kernelspec": {
   "display_name": "scanpy",
   "language": "python",
   "name": "pyscenic"
  },
  "language_info": {
   "codemirror_mode": {
    "name": "ipython",
    "version": 3
   },
   "file_extension": ".py",
   "mimetype": "text/x-python",
   "name": "python",
   "nbconvert_exporter": "python",
   "pygments_lexer": "ipython3",
   "version": "3.13.2"
  }
 },
 "nbformat": 4,
 "nbformat_minor": 2
}
